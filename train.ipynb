{
 "cells": [
  {
   "cell_type": "code",
   "execution_count": null,
   "id": "b4fed951-166e-4f8d-8831-1b7323950673",
   "metadata": {},
   "outputs": [],
   "source": [
    "import pandas as pd\n",
    "import numpy as np\n",
    "import matplotlib.pyplot as plt\n",
    "import seaborn as sns\n",
    "%matplotlib inline\n",
    "import warnings\n",
    "warnings.simplefilter('ignore')\n",
    "plt.style.use(\"fivethirtyeight\")"
   ]
  },
  {
   "cell_type": "code",
   "execution_count": null,
   "id": "46c048da-153d-4191-9848-6075a9da7442",
   "metadata": {},
   "outputs": [],
   "source": [
    "data = pd.read_csv(\"WA_Fn-UseC_-Telco-Customer-Churn.csv\")"
   ]
  },
  {
   "cell_type": "code",
   "execution_count": null,
   "id": "8c5ef15e-8fab-4cd0-b4b4-ba5e8dc50357",
   "metadata": {},
   "outputs": [],
   "source": [
    "data.head()"
   ]
  },
  {
   "cell_type": "code",
   "execution_count": null,
   "id": "32504522-d301-46a8-b611-5acfb388f224",
   "metadata": {},
   "outputs": [],
   "source": [
    "data.isna().sum()"
   ]
  },
  {
   "cell_type": "code",
   "execution_count": null,
   "id": "3b419f02-6fda-4dee-bace-bac3f7eeab96",
   "metadata": {},
   "outputs": [],
   "source": [
    "data.groupby('Churn')[['MonthlyCharges', 'tenure']].agg(['min', 'max', 'mean'])"
   ]
  },
  {
   "cell_type": "code",
   "execution_count": null,
   "id": "52ffaa04-4e16-48fe-ba28-e7e4611fcba3",
   "metadata": {},
   "outputs": [],
   "source": [
    "data[data['TotalCharges'] == ' ']"
   ]
  },
  {
   "cell_type": "code",
   "execution_count": null,
   "id": "ff8db093-fe1b-420c-9519-55ac5b673ff7",
   "metadata": {},
   "outputs": [],
   "source": [
    "data['TotalCharges'] = data['TotalCharges'].replace(' ', np.nan)"
   ]
  },
  {
   "cell_type": "code",
   "execution_count": null,
   "id": "26889088-204a-4f4e-b314-61d79505a5d2",
   "metadata": {},
   "outputs": [],
   "source": [
    "data[data['TotalCharges'] == ' ']"
   ]
  },
  {
   "cell_type": "code",
   "execution_count": null,
   "id": "e2152413-abbe-415a-83bf-1dd66fa5b7f7",
   "metadata": {},
   "outputs": [],
   "source": [
    "data['TotalCharges'].isna().sum()"
   ]
  },
  {
   "cell_type": "code",
   "execution_count": null,
   "id": "c785f43d-89ac-4371-92d3-96cd6b15a9f7",
   "metadata": {},
   "outputs": [],
   "source": [
    "data['TotalCharges'] = pd.to_numeric(data['TotalCharges'])\n",
    "data['TotalCharges'].dtypes\n"
   ]
  },
  {
   "cell_type": "code",
   "execution_count": null,
   "id": "21e3c4a3-56eb-4ce5-a9a6-d6752fedea75",
   "metadata": {},
   "outputs": [],
   "source": [
    "data.groupby('Churn')[['MonthlyCharges', 'tenure', 'TotalCharges']].agg(['min', 'max', 'mean'])"
   ]
  },
  {
   "cell_type": "code",
   "execution_count": null,
   "id": "e6b83fc0-bd02-4788-bfd8-b54af2ec2185",
   "metadata": {},
   "outputs": [],
   "source": [
    "data.dropna(inplace = True)\n",
    "data.isna().sum()"
   ]
  },
  {
   "cell_type": "code",
   "execution_count": null,
   "id": "778950ca-db8b-48d2-8bee-cbba52f0acce",
   "metadata": {},
   "outputs": [],
   "source": [
    "data.groupby('Churn')[['OnlineBackup', 'OnlineSecurity', 'PhoneService']].count()"
   ]
  },
  {
   "cell_type": "code",
   "execution_count": null,
   "id": "b044faf9-6ba8-4d88-b9dd-5889afcd8f51",
   "metadata": {},
   "outputs": [],
   "source": [
    "def half_corr_heatmap(data, title=None):\n",
    "    plt.figure(figsize=(9,9))\n",
    "    sns.set(font_scale=1)\n",
    "    \n",
    "    mask = np.zeros_like(data.corr())\n",
    "    mask[np.tril_indices_from(mask)] = True\n",
    "    \n",
    "    with sns.axes_style(\"white\"):\n",
    "        sns.heatmap(data.corr(), mask=mask, annot=True, cmap=\"coolwarm\")\n",
    "    \n",
    "    if title: plt.title(f\"\\n{title}\\n\", fontsize=18)\n",
    "    plt.show()\n",
    "    return"
   ]
  },
  {
   "cell_type": "code",
   "execution_count": null,
   "id": "4552f964-95e2-4e7f-82da-98e1a0e69d0d",
   "metadata": {},
   "outputs": [],
   "source": [
    "half_corr_heatmap(data, 'Correlation Between Variables')"
   ]
  },
  {
   "cell_type": "code",
   "execution_count": null,
   "id": "d02c42e9-c170-4681-8d56-2989e30e2442",
   "metadata": {},
   "outputs": [],
   "source": [
    "data['Churn'] = data['Churn'].map({'Yes' : 1, 'No' : 0})"
   ]
  },
  {
   "cell_type": "code",
   "execution_count": null,
   "id": "0934b372-0db6-4f08-92d1-15eede278991",
   "metadata": {},
   "outputs": [],
   "source": [
    "def corr_for_target(data, target, title=None):\n",
    "    plt.figure(figsize=(4,14))\n",
    "    sns.set(font_scale=1)\n",
    "    \n",
    "    sns.heatmap(data.corr()[[target]].sort_values(target, ascending=False)[1:], annot=True, cmap=\"coolwarm\")\n",
    "    \n",
    "    if title: plt.title(f\"\\n{title}\\n\", fontsize=18)\n",
    "    return"
   ]
  },
  {
   "cell_type": "code",
   "execution_count": null,
   "id": "9512b3e8-5373-4acc-8e16-2f4715a0b5c6",
   "metadata": {},
   "outputs": [],
   "source": [
    "corr_for_target(data, 'Churn', 'Correlation Between Target')"
   ]
  },
  {
   "cell_type": "code",
   "execution_count": null,
   "id": "34bba598-3eff-4948-b048-c594751fcd4e",
   "metadata": {},
   "outputs": [],
   "source": [
    "sns.countplot(data['InternetService'])"
   ]
  },
  {
   "cell_type": "code",
   "execution_count": null,
   "id": "08d6a801-ae1c-4fbf-ae4a-2db8f08ddf1c",
   "metadata": {},
   "outputs": [],
   "source": [
    "data2 = data.drop(['customerID'], axis = 1)"
   ]
  },
  {
   "cell_type": "code",
   "execution_count": null,
   "id": "1362c86d-39e4-49ee-8384-193824849041",
   "metadata": {},
   "outputs": [],
   "source": [
    "numerical = data2.select_dtypes(['number']).columns\n",
    "print(f'Numerical: {numerical}\\n')\n",
    "\n",
    "categorical = data2.columns.difference(numerical)\n",
    "\n",
    "data2[categorical] = data2[categorical].astype('object')\n",
    "print(f'Categorical: {categorical}')"
   ]
  },
  {
   "cell_type": "code",
   "execution_count": null,
   "id": "3935324e-42c8-4b9b-a236-b4d4416b9fd1",
   "metadata": {},
   "outputs": [],
   "source": [
    "data2 = pd.get_dummies(data2)\n",
    "data2.head()"
   ]
  },
  {
   "cell_type": "code",
   "execution_count": null,
   "id": "7e0587e3-5271-4adf-86e2-d07ba0099f87",
   "metadata": {},
   "outputs": [],
   "source": [
    "data_cols = data.drop('customerID', axis = 1)\n",
    "\n",
    "for col in data_cols.columns:\n",
    "    print(col, \"\\n\")\n",
    "    print(data[col].unique(), \"\\n\")"
   ]
  },
  {
   "cell_type": "code",
   "execution_count": null,
   "id": "bbcb45f4-5854-41e2-812c-94b987d39460",
   "metadata": {},
   "outputs": [],
   "source": [
    "X = data2.drop('Churn', axis=1)\n",
    "\n",
    "y = data2['Churn']"
   ]
  },
  {
   "cell_type": "code",
   "execution_count": null,
   "id": "c83609f1-af8c-44d8-ab43-98e9438ec7ea",
   "metadata": {},
   "outputs": [],
   "source": [
    "from sklearn.model_selection import train_test_split\n",
    "from sklearn.linear_model import LogisticRegression\n",
    "from sklearn import metrics\n",
    "from xgboost import XGBClassifier\n",
    "from sklearn.ensemble import RandomForestClassifier\n",
    "from sklearn.tree import DecisionTreeClassifier\n",
    "from sklearn.ensemble import GradientBoostingClassifier\n",
    "from lightgbm import LGBMClassifier\n",
    "from sklearn.svm import SVC\n",
    "from sklearn.neighbors import KNeighborsClassifier\n",
    "from sklearn.model_selection import cross_val_score\n",
    "from sklearn.model_selection import GridSearchCV\n",
    "from sklearn.preprocessing import StandardScaler"
   ]
  },
  {
   "cell_type": "code",
   "execution_count": null,
   "id": "735a2a48-b068-4cfc-8792-257828de8480",
   "metadata": {},
   "outputs": [],
   "source": [
    "X_train, X_test, y_train, y_test = train_test_split(X, y, test_size = .33, random_state = 42)"
   ]
  },
  {
   "cell_type": "code",
   "execution_count": null,
   "id": "7fa2898c-64ee-432d-8220-b9509fbad6a1",
   "metadata": {},
   "outputs": [],
   "source": [
    "model_lgbm = LGBMClassifier()\n",
    "model_lgbm.fit(X_train, y_train)\n",
    "\n",
    "y_pred_lgbm = model_lgbm.predict(X_test)\n",
    "y_pred_lgbm_train = model_lgbm.predict(X_train)"
   ]
  },
  {
   "cell_type": "code",
   "execution_count": null,
   "id": "bff06de0-d3ed-4498-993c-455abbbb4a49",
   "metadata": {},
   "outputs": [],
   "source": [
    "lgbm_test_as = metrics.accuracy_score(y_pred_lgbm, y_test)\n",
    "lgbm_train_as = metrics.accuracy_score(y_pred_lgbm_train, y_train)\n",
    "\n",
    "print(f\"LGBM accuracy score for test data {lgbm_test_as}\")\n",
    "print(f\"LGBM accuracy score for train data {lgbm_train_as}\")"
   ]
  },
  {
   "cell_type": "code",
   "execution_count": null,
   "id": "cbd17d87-3145-42d9-a62c-5736ad2bfdb7",
   "metadata": {},
   "outputs": [],
   "source": [
    "X_train_new = X_train[['MonthlyCharges', 'TotalCharges', 'tenure', 'PaymentMethod_Electronic check']]\n",
    "\n",
    "X_test_new = X_test[['MonthlyCharges', 'TotalCharges', 'tenure', 'PaymentMethod_Electronic check']]"
   ]
  },
  {
   "cell_type": "code",
   "execution_count": null,
   "id": "e294a56a-94bf-4765-ae54-c6cd6f394b20",
   "metadata": {},
   "outputs": [],
   "source": [
    "new_model_lgbm = LGBMClassifier()\n",
    "new_model_lgbm.fit(X_train_new, y_train)\n",
    "\n",
    "new_y_pred = new_model_lgbm.predict(X_test_new)\n",
    "lgbm_ft_as = metrics.accuracy_score(new_y_pred, y_test)\n",
    "lgbm_ft_as"
   ]
  },
  {
   "cell_type": "code",
   "execution_count": null,
   "id": "6892cafd-4897-42bd-a444-9987f839598d",
   "metadata": {},
   "outputs": [],
   "source": [
    "new_y_pred_train = new_model_lgbm.predict(X_train_new)\n",
    "lgbm_ft_as_ = metrics.accuracy_score(new_y_pred_train, y_train)\n",
    "lgbm_ft_as_\n"
   ]
  },
  {
   "cell_type": "code",
   "execution_count": null,
   "id": "d8e63a59-dae0-4af9-a255-374133070032",
   "metadata": {},
   "outputs": [],
   "source": [
    "log = LogisticRegression()\n",
    "log.fit(X_train, y_train)\n",
    "\n",
    "log_y_pred = log.predict(X_test)\n",
    "log_y_pred_train = log.predict(X_train)\n",
    "log_test_as = metrics.accuracy_score(log_y_pred, y_test)\n",
    "log_train_as = metrics.accuracy_score(log_y_pred_train, y_train)\n",
    "print(f\"Accuracy score for test data : {log_test_as}\")\n",
    "print(f\"Accuracy score for train data : {log_train_as}\")"
   ]
  },
  {
   "cell_type": "code",
   "execution_count": null,
   "id": "4c7507f5-3757-4cd4-9a5c-73f325085b3b",
   "metadata": {},
   "outputs": [],
   "source": [
    "print(metrics.classification_report(log_y_pred, y_test))"
   ]
  },
  {
   "cell_type": "code",
   "execution_count": null,
   "id": "800e1d65-c49e-48fb-9124-f3bd101f729b",
   "metadata": {},
   "outputs": [],
   "source": [
    "y_proba_log = log.predict_proba(X_test)[:, 1]\n",
    "fpr, tpr, threshold = metrics.roc_curve(y_test, y_proba_log)"
   ]
  },
  {
   "cell_type": "code",
   "execution_count": null,
   "id": "d7e98175-e09a-4437-a40f-cb4424fe50f0",
   "metadata": {},
   "outputs": [],
   "source": [
    "metrics.roc_auc_score(y_test, y_proba_log)"
   ]
  },
  {
   "cell_type": "code",
   "execution_count": null,
   "id": "ae4eb9d9-a585-43b4-9350-e46d08fdd3ea",
   "metadata": {},
   "outputs": [],
   "source": [
    "y_proba_log_train = log.predict_proba(X_train)[:, 1]\n",
    "metrics.roc_auc_score(y_train, y_proba_log_train)"
   ]
  },
  {
   "cell_type": "code",
   "execution_count": null,
   "id": "0a652986-0204-46c1-a9c6-f8afa8af7c28",
   "metadata": {},
   "outputs": [],
   "source": [
    "decision_tree = DecisionTreeClassifier()\n",
    "decision_tree.fit(X_train, y_train)\n",
    "\n",
    "y_pred_dt = decision_tree.predict(X_test)\n",
    "y_pred_train_dt = decision_tree.predict(X_train)"
   ]
  },
  {
   "cell_type": "code",
   "execution_count": null,
   "id": "3a818eed-16da-4dd4-9600-4a96e383d630",
   "metadata": {},
   "outputs": [],
   "source": [
    "dt_as = metrics.accuracy_score(y_test, y_pred_dt)\n",
    "dt_as_train = metrics.accuracy_score(y_train, y_pred_train_dt)\n",
    "\n",
    "print(f\"Accuracy score for test data : {dt_as}\")\n",
    "print(f\"Accuracy score for train data : {dt_as_train}\")"
   ]
  },
  {
   "cell_type": "code",
   "execution_count": null,
   "id": "cba5a5cc-a351-4b1d-815b-30574b7a6ab3",
   "metadata": {},
   "outputs": [],
   "source": [
    "random_forest = RandomForestClassifier()\n",
    "random_forest.fit(X_train, y_train)\n",
    "\n",
    "y_pred_rf = random_forest.predict(X_test)\n",
    "y_pred_train_rf = random_forest.predict(X_train)"
   ]
  },
  {
   "cell_type": "code",
   "execution_count": null,
   "id": "2825e7dc-5b25-4999-a2e2-510e3e1a6259",
   "metadata": {},
   "outputs": [],
   "source": [
    "rf_as = metrics.accuracy_score(y_test, y_pred_rf)\n",
    "rf_as_train = metrics.accuracy_score(y_train, y_pred_train_rf)\n",
    "\n",
    "print(f\"Accuracy score for test data : {rf_as}\")\n",
    "print(f\"Accuracy score for train data : {rf_as_train}\")"
   ]
  },
  {
   "cell_type": "code",
   "execution_count": null,
   "id": "53a68a46-f88d-4248-ab13-42a38f5d4922",
   "metadata": {},
   "outputs": [],
   "source": [
    "random_forest_ = RandomForestClassifier(100)\n",
    "random_forest_.fit(X_train, y_train)\n",
    "\n",
    "y_pred_rf_ = random_forest_.predict(X_test)\n",
    "y_pred_train_rf_ = random_forest_.predict(X_train)"
   ]
  },
  {
   "cell_type": "code",
   "execution_count": null,
   "id": "caf0b544-9637-4d00-9633-33a78c9bb445",
   "metadata": {},
   "outputs": [],
   "source": [
    "rf_as_ = metrics.accuracy_score(y_test, y_pred_rf_)\n",
    "rf_as_train_ = metrics.accuracy_score(y_train, y_pred_train_rf_)\n",
    "\n",
    "print(f\"Accuracy score for test data : {rf_as_}\")\n",
    "print(f\"Accuracy score for train data : {rf_as_train_}\")"
   ]
  },
  {
   "cell_type": "code",
   "execution_count": null,
   "id": "2450acd4-0ece-4d71-b973-e4044faa5956",
   "metadata": {},
   "outputs": [],
   "source": [
    "X_train_new_ = X_train[['MonthlyCharges', 'TotalCharges', 'tenure', 'Contract_Month-to-month', 'OnlineSecurity_No']]\n",
    "X_test_new_ = X_test[['MonthlyCharges', 'TotalCharges', 'tenure', 'Contract_Month-to-month', 'OnlineSecurity_No']]\n"
   ]
  },
  {
   "cell_type": "code",
   "execution_count": null,
   "id": "4b8bff8d-46e4-4774-9a79-5286ecf53acb",
   "metadata": {},
   "outputs": [],
   "source": [
    "random_forest_new = RandomForestClassifier()\n",
    "random_forest_new.fit(X_train_new_, y_train)\n",
    "\n",
    "y_pred_rf_new = random_forest_new.predict(X_test_new_)\n",
    "y_pred_train_rf_new = random_forest_new.predict(X_train_new_)"
   ]
  },
  {
   "cell_type": "code",
   "execution_count": null,
   "id": "d08de036-e908-4320-9be8-52a83b7ef3a0",
   "metadata": {},
   "outputs": [],
   "source": [
    "rf_as_new = metrics.accuracy_score(y_test, y_pred_rf_new)\n",
    "rf_as_train_new = metrics.accuracy_score(y_train, y_pred_train_rf_new)\n",
    "\n",
    "print(f\"Accuracy score for test data : {rf_as_new}\")\n",
    "print(f\"Accuracy score for train data : {rf_as_train_new}\")"
   ]
  },
  {
   "cell_type": "code",
   "execution_count": null,
   "id": "a5762cf5-6836-454d-b5e4-ca5efe39e666",
   "metadata": {},
   "outputs": [],
   "source": [
    "from sklearn.datasets import load_iris\n",
    "from sklearn.model_selection import train_test_split\n",
    "from sklearn.ensemble import RandomForestClassifier\n",
    "from sklearn.metrics import accuracy_score\n",
    "\n",
    "# Load the iris dataset\n",
    "iris = load_iris()\n",
    "X = iris.data\n",
    "y = iris.target\n",
    "\n",
    "# Split the data into training and testing sets\n",
    "X_train, X_test, y_train, y_test = train_test_split(X, y, test_size=0.2, random_state=42)\n",
    "\n",
    "# Initialize the Random Forest classifier\n",
    "rf_classifier = RandomForestClassifier(n_estimators=100, random_state=42)\n",
    "\n",
    "# Train the classifier on the training data\n",
    "rf_classifier.fit(X_train, y_train)\n",
    "\n",
    "# Make predictions on the testing data\n",
    "y_pred = rf_classifier.predict(X_test)\n",
    "\n",
    "# Calculate the accuracy of the classifier\n",
    "accuracy = accuracy_score(y_test, y_pred)\n",
    "print(\"Accuracy:\", accuracy)\n"
   ]
  }
 ],
 "metadata": {
  "kernelspec": {
   "display_name": "Python 3 (ipykernel)",
   "language": "python",
   "name": "python3"
  },
  "language_info": {
   "codemirror_mode": {
    "name": "ipython",
    "version": 3
   },
   "file_extension": ".py",
   "mimetype": "text/x-python",
   "name": "python",
   "nbconvert_exporter": "python",
   "pygments_lexer": "ipython3",
   "version": "3.11.7"
  }
 },
 "nbformat": 4,
 "nbformat_minor": 5
}
